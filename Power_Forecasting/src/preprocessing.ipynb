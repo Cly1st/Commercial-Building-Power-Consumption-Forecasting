{
 "cells": [
  {
   "cell_type": "code",
   "execution_count": 1,
   "metadata": {},
   "outputs": [],
   "source": [
    "import os\n",
    "import numpy as np\n",
    "import pandas as pd\n",
    "\n",
    "%matplotlib widget\n",
    "import matplotlib.pyplot as plt\n",
    "import seaborn as sns\n",
    "sns.set_theme(style='darkgrid')\n",
    "\n",
    "from tsmoothie.smoother import *\n",
    "from datetime import datetime, timedelta\n",
    "from scipy import signal"
   ]
  },
  {
   "cell_type": "markdown",
   "metadata": {},
   "source": [
    "<b>Define a function to resample the power consumption from 15 minute to 1 hour</b>\n",
    "\n",
    "<b>*Note: The reason that pandas resample not use is the dataset start record at xx:15\n",
    "(e.g. 01:15 -> 01:45 This is what pandas will resample; However, we want to in hour which mean 01:15 -> 02:00"
   ]
  },
  {
   "cell_type": "code",
   "execution_count": 2,
   "metadata": {},
   "outputs": [],
   "source": [
    "def resample_data(series, window=4, types='sum'):\n",
    "    #Resample the data by giving window width size\n",
    "    n = len(series) / window\n",
    "    split_data = np.split(series, n)\n",
    "    new_data = list()\n",
    "    for split in split_data:\n",
    "        if types == 'sum':\n",
    "            new_data.append(split.sum())\n",
    "        else:\n",
    "            new_data.append(split.mean())\n",
    "    return np.array(new_data)"
   ]
  },
  {
   "cell_type": "markdown",
   "metadata": {},
   "source": [
    "<h1> Import dataset"
   ]
  },
  {
   "cell_type": "code",
   "execution_count": 3,
   "metadata": {},
   "outputs": [
    {
     "data": {
      "text/html": [
       "<div>\n",
       "<style scoped>\n",
       "    .dataframe tbody tr th:only-of-type {\n",
       "        vertical-align: middle;\n",
       "    }\n",
       "\n",
       "    .dataframe tbody tr th {\n",
       "        vertical-align: top;\n",
       "    }\n",
       "\n",
       "    .dataframe thead th {\n",
       "        text-align: right;\n",
       "    }\n",
       "</style>\n",
       "<table border=\"1\" class=\"dataframe\">\n",
       "  <thead>\n",
       "    <tr style=\"text-align: right;\">\n",
       "      <th></th>\n",
       "      <th>OAT (F)</th>\n",
       "      <th>Power (kW)</th>\n",
       "    </tr>\n",
       "    <tr>\n",
       "      <th>Timestamp</th>\n",
       "      <th></th>\n",
       "      <th></th>\n",
       "    </tr>\n",
       "  </thead>\n",
       "  <tbody>\n",
       "    <tr>\n",
       "      <th>2010-01-01 01:15:00</th>\n",
       "      <td>51</td>\n",
       "      <td>165.1</td>\n",
       "    </tr>\n",
       "    <tr>\n",
       "      <th>2010-01-01 01:30:00</th>\n",
       "      <td>51</td>\n",
       "      <td>151.6</td>\n",
       "    </tr>\n",
       "    <tr>\n",
       "      <th>2010-01-01 01:45:00</th>\n",
       "      <td>51</td>\n",
       "      <td>146.9</td>\n",
       "    </tr>\n",
       "    <tr>\n",
       "      <th>2010-01-01 02:00:00</th>\n",
       "      <td>51</td>\n",
       "      <td>153.7</td>\n",
       "    </tr>\n",
       "    <tr>\n",
       "      <th>2010-01-01 02:15:00</th>\n",
       "      <td>51</td>\n",
       "      <td>153.8</td>\n",
       "    </tr>\n",
       "  </tbody>\n",
       "</table>\n",
       "</div>"
      ],
      "text/plain": [
       "                     OAT (F)  Power (kW)\n",
       "Timestamp                               \n",
       "2010-01-01 01:15:00       51       165.1\n",
       "2010-01-01 01:30:00       51       151.6\n",
       "2010-01-01 01:45:00       51       146.9\n",
       "2010-01-01 02:00:00       51       153.7\n",
       "2010-01-01 02:15:00       51       153.8"
      ]
     },
     "execution_count": 3,
     "metadata": {},
     "output_type": "execute_result"
    }
   ],
   "source": [
    "#import data\n",
    "ds_path = '../dataset/raw/'\n",
    "filename = 'building1retail.csv'\n",
    "\n",
    "dataframe = pd.read_csv(os.path.join(ds_path, filename), header=0, index_col='Timestamp', parse_dates=True, low_memory=False)\n",
    "dataframe.head(5)"
   ]
  },
  {
   "cell_type": "markdown",
   "metadata": {},
   "source": [
    "<h1>Resample data"
   ]
  },
  {
   "cell_type": "code",
   "execution_count": 4,
   "metadata": {},
   "outputs": [],
   "source": [
    "#create variables hold series values\n",
    "origin_power = dataframe['Power (kW)'].values\n",
    "origin_temp = dataframe['OAT (F)'].values"
   ]
  },
  {
   "cell_type": "code",
   "execution_count": 5,
   "metadata": {},
   "outputs": [],
   "source": [
    "#Resample data\n",
    "resampled_power = resample_data(origin_power, window=4, types='sum')\n",
    "resampled_temp = resample_data(origin_temp, window=4, types='mean')"
   ]
  },
  {
   "cell_type": "code",
   "execution_count": 6,
   "metadata": {},
   "outputs": [
    {
     "data": {
      "text/html": [
       "<div>\n",
       "<style scoped>\n",
       "    .dataframe tbody tr th:only-of-type {\n",
       "        vertical-align: middle;\n",
       "    }\n",
       "\n",
       "    .dataframe tbody tr th {\n",
       "        vertical-align: top;\n",
       "    }\n",
       "\n",
       "    .dataframe thead th {\n",
       "        text-align: right;\n",
       "    }\n",
       "</style>\n",
       "<table border=\"1\" class=\"dataframe\">\n",
       "  <thead>\n",
       "    <tr style=\"text-align: right;\">\n",
       "      <th></th>\n",
       "      <th>Power</th>\n",
       "      <th>Temperature</th>\n",
       "    </tr>\n",
       "  </thead>\n",
       "  <tbody>\n",
       "    <tr>\n",
       "      <th>2010-01-01 00:00:00</th>\n",
       "      <td>617.3</td>\n",
       "      <td>51.0</td>\n",
       "    </tr>\n",
       "    <tr>\n",
       "      <th>2010-01-01 01:00:00</th>\n",
       "      <td>633.7</td>\n",
       "      <td>51.0</td>\n",
       "    </tr>\n",
       "    <tr>\n",
       "      <th>2010-01-01 02:00:00</th>\n",
       "      <td>617.0</td>\n",
       "      <td>50.0</td>\n",
       "    </tr>\n",
       "    <tr>\n",
       "      <th>2010-01-01 03:00:00</th>\n",
       "      <td>648.5</td>\n",
       "      <td>50.0</td>\n",
       "    </tr>\n",
       "    <tr>\n",
       "      <th>2010-01-01 04:00:00</th>\n",
       "      <td>637.1</td>\n",
       "      <td>50.0</td>\n",
       "    </tr>\n",
       "  </tbody>\n",
       "</table>\n",
       "</div>"
      ],
      "text/plain": [
       "                     Power  Temperature\n",
       "2010-01-01 00:00:00  617.3         51.0\n",
       "2010-01-01 01:00:00  633.7         51.0\n",
       "2010-01-01 02:00:00  617.0         50.0\n",
       "2010-01-01 03:00:00  648.5         50.0\n",
       "2010-01-01 04:00:00  637.1         50.0"
      ]
     },
     "execution_count": 6,
     "metadata": {},
     "output_type": "execute_result"
    }
   ],
   "source": [
    "#Create new dataframe for resample data\n",
    "dates = pd.date_range(\"2010-01-01\", periods=len(resampled_power), freq='H')\n",
    "\n",
    "data = {'Power':resampled_power, 'Temperature':resampled_temp}\n",
    "resampled_df = pd.DataFrame(data=data, index=dates)\n",
    "\n",
    "resampled_df.head(5)"
   ]
  },
  {
   "cell_type": "markdown",
   "metadata": {},
   "source": [
    "<h1> Filling missing values"
   ]
  },
  {
   "cell_type": "code",
   "execution_count": 7,
   "metadata": {},
   "outputs": [],
   "source": [
    "#Replace missing values by the days between missing value at the same time\n",
    "\n",
    "index_missing_vals = resampled_df.loc[resampled_df['Power'] == 0].index\n",
    "\n",
    "for index in index_missing_vals:\n",
    "    previous_day = index.day - 1\n",
    "    next_day = index.day + 1\n",
    "    \n",
    "    #Change dates\n",
    "    previous_day_index = index.replace(day=previous_day)\n",
    "    next_day_index = index.replace(day=next_day)\n",
    "    \n",
    "    #Retreive value\n",
    "    preivous_day_val = resampled_df._get_value(previous_day_index, 'Power')\n",
    "    next_day_val = resampled_df._get_value(next_day_index, 'Power')\n",
    "    #Replace missing value\n",
    "    average_val = (preivous_day_val + next_day_val) / 2\n",
    "    resampled_df.loc[index, 'Power'] = average_val"
   ]
  },
  {
   "cell_type": "code",
   "execution_count": 8,
   "metadata": {},
   "outputs": [
    {
     "data": {
      "application/vnd.jupyter.widget-view+json": {
       "model_id": "5723f7a58d41400ca9e67b54c2fa41d8",
       "version_major": 2,
       "version_minor": 0
      },
      "text/plain": [
       "Canvas(toolbar=Toolbar(toolitems=[('Home', 'Reset original view', 'home', 'home'), ('Back', 'Back to previous …"
      ]
     },
     "metadata": {},
     "output_type": "display_data"
    },
    {
     "data": {
      "text/plain": [
       "Text(0.5, 1.0, 'Power consumption after filling missing values')"
      ]
     },
     "execution_count": 8,
     "metadata": {},
     "output_type": "execute_result"
    }
   ],
   "source": [
    "#Plotting before and after missing value filling\n",
    "\n",
    "plt.close()\n",
    "resampled_df.Power.plot()\n",
    "plt.title('Power consumption after filling missing values')"
   ]
  },
  {
   "cell_type": "markdown",
   "metadata": {},
   "source": [
    "<b>As shown above, there are no missing value (zero) in the graph. However, there are still a spark in the graph which is outliers.</b>\n",
    "\n",
    "<b>So, we will remove it by anomaly detection using Tsmoothie library: https://pypi.org/project/tsmoothie/."
   ]
  },
  {
   "cell_type": "markdown",
   "metadata": {},
   "source": [
    "<h1> Outlier detection"
   ]
  },
  {
   "cell_type": "code",
   "execution_count": 9,
   "metadata": {},
   "outputs": [],
   "source": [
    "resampled_df = resampled_df[:8712] #363 Days, Due to last record is 2010-12-31, 00:00:00"
   ]
  },
  {
   "cell_type": "code",
   "execution_count": 10,
   "metadata": {},
   "outputs": [],
   "source": [
    "power_vals = resampled_df.Power.values"
   ]
  },
  {
   "cell_type": "code",
   "execution_count": 11,
   "metadata": {},
   "outputs": [],
   "source": [
    "#Smooth by Convolution algorithm\n",
    "smoother = DecomposeSmoother(smooth_type='convolution', periods=24, window_len=24, window_type='ones')\n",
    "\n",
    "smoother.smooth(power_vals)\n",
    "\n",
    "#Fine a confident intervals to detect outliers\n",
    "lower, upper = smoother.get_intervals('sigma_interval', n_sigma=3)\n",
    "\n",
    "is_anomaly = np.logical_or(\n",
    "            power_vals[:] > upper,\n",
    "            power_vals[:] < lower\n",
    ").flatten()"
   ]
  },
  {
   "cell_type": "code",
   "execution_count": 12,
   "metadata": {},
   "outputs": [],
   "source": [
    "#For plotting\n",
    "anomalies = list()\n",
    "for ind, ano in enumerate(is_anomaly):\n",
    "    if ano:\n",
    "        anomalies.append(power_vals[ind])\n",
    "    else:\n",
    "        anomalies.append(np.nan)"
   ]
  },
  {
   "cell_type": "code",
   "execution_count": 13,
   "metadata": {},
   "outputs": [
    {
     "data": {
      "application/vnd.jupyter.widget-view+json": {
       "model_id": "6f93944474b549a98f81a1a84012daa7",
       "version_major": 2,
       "version_minor": 0
      },
      "text/plain": [
       "Canvas(toolbar=Toolbar(toolitems=[('Home', 'Reset original view', 'home', 'home'), ('Back', 'Back to previous …"
      ]
     },
     "metadata": {},
     "output_type": "display_data"
    },
    {
     "data": {
      "text/plain": [
       "<matplotlib.legend.Legend at 0x17de1642248>"
      ]
     },
     "execution_count": 13,
     "metadata": {},
     "output_type": "execute_result"
    }
   ],
   "source": [
    "#Plot outliers\n",
    "plt.close()\n",
    "plt.plot(smoother.smooth_data[0], label='Smoothed power consumption')\n",
    "plt.plot(smoother.data[0], label=\"Origin power consumption\")\n",
    "plt.plot(anomalies, 'x', color='r', label='Outliers')\n",
    "plt.fill_between(range(len(smoother.data[0])), lower[0], upper[0], alpha=0.3) #Fill a confident interval\n",
    "plt.title('Outliers detection')\n",
    "plt.legend()"
   ]
  },
  {
   "cell_type": "code",
   "execution_count": 44,
   "metadata": {},
   "outputs": [],
   "source": [
    "resampled_df['Smooth'] = smoother.smooth_data[0]"
   ]
  },
  {
   "cell_type": "markdown",
   "metadata": {},
   "source": [
    "<h1> Adding features"
   ]
  },
  {
   "cell_type": "code",
   "execution_count": 45,
   "metadata": {},
   "outputs": [
    {
     "data": {
      "text/html": [
       "<div>\n",
       "<style scoped>\n",
       "    .dataframe tbody tr th:only-of-type {\n",
       "        vertical-align: middle;\n",
       "    }\n",
       "\n",
       "    .dataframe tbody tr th {\n",
       "        vertical-align: top;\n",
       "    }\n",
       "\n",
       "    .dataframe thead th {\n",
       "        text-align: right;\n",
       "    }\n",
       "</style>\n",
       "<table border=\"1\" class=\"dataframe\">\n",
       "  <thead>\n",
       "    <tr style=\"text-align: right;\">\n",
       "      <th></th>\n",
       "      <th>Power</th>\n",
       "      <th>Temperature</th>\n",
       "      <th>Smooth</th>\n",
       "      <th>Day_of_Week</th>\n",
       "      <th>Events</th>\n",
       "    </tr>\n",
       "  </thead>\n",
       "  <tbody>\n",
       "    <tr>\n",
       "      <th>2010-01-01 00:00:00</th>\n",
       "      <td>627.3</td>\n",
       "      <td>67.0</td>\n",
       "      <td>537.965366</td>\n",
       "      <td>4</td>\n",
       "      <td>0</td>\n",
       "    </tr>\n",
       "    <tr>\n",
       "      <th>2010-01-01 01:00:00</th>\n",
       "      <td>624.8</td>\n",
       "      <td>63.0</td>\n",
       "      <td>524.488132</td>\n",
       "      <td>4</td>\n",
       "      <td>0</td>\n",
       "    </tr>\n",
       "    <tr>\n",
       "      <th>2010-01-01 02:00:00</th>\n",
       "      <td>704.0</td>\n",
       "      <td>64.0</td>\n",
       "      <td>620.592628</td>\n",
       "      <td>4</td>\n",
       "      <td>0</td>\n",
       "    </tr>\n",
       "    <tr>\n",
       "      <th>2010-01-01 03:00:00</th>\n",
       "      <td>768.5</td>\n",
       "      <td>63.0</td>\n",
       "      <td>692.804419</td>\n",
       "      <td>4</td>\n",
       "      <td>0</td>\n",
       "    </tr>\n",
       "    <tr>\n",
       "      <th>2010-01-01 04:00:00</th>\n",
       "      <td>728.2</td>\n",
       "      <td>62.0</td>\n",
       "      <td>702.827174</td>\n",
       "      <td>4</td>\n",
       "      <td>0</td>\n",
       "    </tr>\n",
       "    <tr>\n",
       "      <th>...</th>\n",
       "      <td>...</td>\n",
       "      <td>...</td>\n",
       "      <td>...</td>\n",
       "      <td>...</td>\n",
       "      <td>...</td>\n",
       "    </tr>\n",
       "    <tr>\n",
       "      <th>2010-12-29 19:00:00</th>\n",
       "      <td>1363.7</td>\n",
       "      <td>64.0</td>\n",
       "      <td>1533.936705</td>\n",
       "      <td>2</td>\n",
       "      <td>0</td>\n",
       "    </tr>\n",
       "    <tr>\n",
       "      <th>2010-12-29 20:00:00</th>\n",
       "      <td>1305.8</td>\n",
       "      <td>62.0</td>\n",
       "      <td>1476.069433</td>\n",
       "      <td>2</td>\n",
       "      <td>0</td>\n",
       "    </tr>\n",
       "    <tr>\n",
       "      <th>2010-12-29 21:00:00</th>\n",
       "      <td>1288.8</td>\n",
       "      <td>63.0</td>\n",
       "      <td>1331.001113</td>\n",
       "      <td>2</td>\n",
       "      <td>0</td>\n",
       "    </tr>\n",
       "    <tr>\n",
       "      <th>2010-12-29 22:00:00</th>\n",
       "      <td>890.0</td>\n",
       "      <td>62.0</td>\n",
       "      <td>913.536397</td>\n",
       "      <td>2</td>\n",
       "      <td>0</td>\n",
       "    </tr>\n",
       "    <tr>\n",
       "      <th>2010-12-29 23:00:00</th>\n",
       "      <td>812.5</td>\n",
       "      <td>62.0</td>\n",
       "      <td>745.102843</td>\n",
       "      <td>2</td>\n",
       "      <td>0</td>\n",
       "    </tr>\n",
       "  </tbody>\n",
       "</table>\n",
       "<p>8712 rows × 5 columns</p>\n",
       "</div>"
      ],
      "text/plain": [
       "                      Power  Temperature       Smooth  Day_of_Week  Events\n",
       "2010-01-01 00:00:00   627.3         67.0   537.965366            4       0\n",
       "2010-01-01 01:00:00   624.8         63.0   524.488132            4       0\n",
       "2010-01-01 02:00:00   704.0         64.0   620.592628            4       0\n",
       "2010-01-01 03:00:00   768.5         63.0   692.804419            4       0\n",
       "2010-01-01 04:00:00   728.2         62.0   702.827174            4       0\n",
       "...                     ...          ...          ...          ...     ...\n",
       "2010-12-29 19:00:00  1363.7         64.0  1533.936705            2       0\n",
       "2010-12-29 20:00:00  1305.8         62.0  1476.069433            2       0\n",
       "2010-12-29 21:00:00  1288.8         63.0  1331.001113            2       0\n",
       "2010-12-29 22:00:00   890.0         62.0   913.536397            2       0\n",
       "2010-12-29 23:00:00   812.5         62.0   745.102843            2       0\n",
       "\n",
       "[8712 rows x 5 columns]"
      ]
     },
     "execution_count": 45,
     "metadata": {},
     "output_type": "execute_result"
    }
   ],
   "source": [
    "#Adding a features such as Day of Week and Holiday-Events (By: Mark 1 as holiday)\n",
    "#Please notice that we mark a day before holiday as 1! By this, because the model have to learn know that before head to predict power of holiday \n",
    "\n",
    "#Day of week 0 to 6 is Mon to Sunday\n",
    "resampled_df['Day_of_Week'] = resampled_df.index.dayofweek\n",
    "\n",
    "#Events\n",
    "resampled_df['Events'] = 0\n",
    "event_dates = ['2010-04-03', '2010-06-13', '2010-11-24', '2010-12-24']\n",
    "\n",
    "for event in event_dates:\n",
    "    resampled_df.loc[event, 'Events'] = 1\n",
    "\n",
    "resampled_df"
   ]
  },
  {
   "cell_type": "code",
   "execution_count": 46,
   "metadata": {},
   "outputs": [
    {
     "data": {
      "application/vnd.jupyter.widget-view+json": {
       "model_id": "fb8c8198a22d442d9601c617c9369323",
       "version_major": 2,
       "version_minor": 0
      },
      "text/plain": [
       "Canvas(toolbar=Toolbar(toolitems=[('Home', 'Reset original view', 'home', 'home'), ('Back', 'Back to previous …"
      ]
     },
     "metadata": {},
     "output_type": "display_data"
    },
    {
     "data": {
      "text/plain": [
       "Text(0.5, 1.0, 'Power consumption by day of week')"
      ]
     },
     "execution_count": 46,
     "metadata": {},
     "output_type": "execute_result"
    }
   ],
   "source": [
    "#Boxplot of power consumption \n",
    "plt.close()\n",
    "sns.boxplot(data=resampled_df, x=resampled_df.Day_of_Week, y=resampled_df.Smooth)\n",
    "plt.title('Power consumption by day of week')"
   ]
  },
  {
   "cell_type": "markdown",
   "metadata": {},
   "source": [
    "<h1> Save data"
   ]
  },
  {
   "cell_type": "code",
   "execution_count": 47,
   "metadata": {},
   "outputs": [],
   "source": [
    "resampled_df.index = resampled_df.index.rename('Datetime')\n",
    "\n",
    "#Save the dataframe\n",
    "save_path = '../dataset/clean/'\n",
    "full_path = os.path.join(save_path, filename)\n",
    "resampled_df.to_csv(full_path)"
   ]
  },
  {
   "cell_type": "code",
   "execution_count": null,
   "metadata": {},
   "outputs": [],
   "source": []
  }
 ],
 "metadata": {
  "kernelspec": {
   "display_name": "Python 3",
   "language": "python",
   "name": "python3"
  },
  "language_info": {
   "codemirror_mode": {
    "name": "ipython",
    "version": 3
   },
   "file_extension": ".py",
   "mimetype": "text/x-python",
   "name": "python",
   "nbconvert_exporter": "python",
   "pygments_lexer": "ipython3",
   "version": "3.7.5"
  }
 },
 "nbformat": 4,
 "nbformat_minor": 4
}
