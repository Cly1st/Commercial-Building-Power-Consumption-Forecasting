{
 "cells": [
  {
   "cell_type": "markdown",
   "metadata": {
    "slideshow": {
     "slide_type": "notes"
    }
   },
   "source": [
    "<b>Visualize a power consumption of different buildings in united state"
   ]
  },
  {
   "cell_type": "code",
   "execution_count": 1,
   "metadata": {},
   "outputs": [],
   "source": [
    "%matplotlib widget\n",
    "import matplotlib.pyplot as plt\n",
    "import seaborn as sns\n",
    "sns.set_theme(style='darkgrid')\n",
    "\n",
    "import pandas as pd\n",
    "import numpy as np"
   ]
  },
  {
   "cell_type": "markdown",
   "metadata": {},
   "source": [
    "<h1>Import data"
   ]
  },
  {
   "cell_type": "code",
   "execution_count": 2,
   "metadata": {},
   "outputs": [],
   "source": [
    "import os\n",
    "\n",
    "ds_path = '../dataset/raw/'\n",
    "filename = 'building1retail.csv'\n",
    "\n",
    "dataframe = pd.read_csv(os.path.join(ds_path, filename), header=0, index_col='Timestamp', parse_dates=True)"
   ]
  },
  {
   "cell_type": "code",
   "execution_count": 3,
   "metadata": {},
   "outputs": [
    {
     "data": {
      "text/html": [
       "<div>\n",
       "<style scoped>\n",
       "    .dataframe tbody tr th:only-of-type {\n",
       "        vertical-align: middle;\n",
       "    }\n",
       "\n",
       "    .dataframe tbody tr th {\n",
       "        vertical-align: top;\n",
       "    }\n",
       "\n",
       "    .dataframe thead th {\n",
       "        text-align: right;\n",
       "    }\n",
       "</style>\n",
       "<table border=\"1\" class=\"dataframe\">\n",
       "  <thead>\n",
       "    <tr style=\"text-align: right;\">\n",
       "      <th></th>\n",
       "      <th>OAT (F)</th>\n",
       "      <th>Power (kW)</th>\n",
       "    </tr>\n",
       "    <tr>\n",
       "      <th>Timestamp</th>\n",
       "      <th></th>\n",
       "      <th></th>\n",
       "    </tr>\n",
       "  </thead>\n",
       "  <tbody>\n",
       "    <tr>\n",
       "      <th>2010-01-01 01:15:00</th>\n",
       "      <td>51</td>\n",
       "      <td>165.1</td>\n",
       "    </tr>\n",
       "    <tr>\n",
       "      <th>2010-01-01 01:30:00</th>\n",
       "      <td>51</td>\n",
       "      <td>151.6</td>\n",
       "    </tr>\n",
       "    <tr>\n",
       "      <th>2010-01-01 01:45:00</th>\n",
       "      <td>51</td>\n",
       "      <td>146.9</td>\n",
       "    </tr>\n",
       "    <tr>\n",
       "      <th>2010-01-01 02:00:00</th>\n",
       "      <td>51</td>\n",
       "      <td>153.7</td>\n",
       "    </tr>\n",
       "    <tr>\n",
       "      <th>2010-01-01 02:15:00</th>\n",
       "      <td>51</td>\n",
       "      <td>153.8</td>\n",
       "    </tr>\n",
       "  </tbody>\n",
       "</table>\n",
       "</div>"
      ],
      "text/plain": [
       "                     OAT (F)  Power (kW)\n",
       "Timestamp                               \n",
       "2010-01-01 01:15:00       51       165.1\n",
       "2010-01-01 01:30:00       51       151.6\n",
       "2010-01-01 01:45:00       51       146.9\n",
       "2010-01-01 02:00:00       51       153.7\n",
       "2010-01-01 02:15:00       51       153.8"
      ]
     },
     "execution_count": 3,
     "metadata": {},
     "output_type": "execute_result"
    }
   ],
   "source": [
    "dataframe.head(5)"
   ]
  },
  {
   "cell_type": "markdown",
   "metadata": {},
   "source": [
    "<h1> Visualization"
   ]
  },
  {
   "cell_type": "code",
   "execution_count": 5,
   "metadata": {},
   "outputs": [
    {
     "data": {
      "application/vnd.jupyter.widget-view+json": {
       "model_id": "17c5cd93d8a84dcca0e88e79a028f9f6",
       "version_major": 2,
       "version_minor": 0
      },
      "text/plain": [
       "Canvas(toolbar=Toolbar(toolitems=[('Home', 'Reset original view', 'home', 'home'), ('Back', 'Back to previous …"
      ]
     },
     "metadata": {},
     "output_type": "display_data"
    },
    {
     "data": {
      "text/plain": [
       "Text(0.5, 1.0, 'Power consumption of building 1')"
      ]
     },
     "execution_count": 5,
     "metadata": {},
     "output_type": "execute_result"
    }
   ],
   "source": [
    "#Line plot of power consumption\n",
    "plt.close()\n",
    "sns.lineplot(data=dataframe, x=dataframe.index, y=dataframe['Power (kW)'])\n",
    "plt.title('Power consumption of building 1')"
   ]
  },
  {
   "cell_type": "markdown",
   "metadata": {},
   "source": [
    "<b> In the graph, there are a few index power consumption drop to zero. this can be replace by average power consumptions between this missing value."
   ]
  },
  {
   "cell_type": "code",
   "execution_count": 17,
   "metadata": {},
   "outputs": [],
   "source": [
    "#Create a day of week\n",
    "dataframe['dayofweek'] = dataframe.index.day_name()"
   ]
  },
  {
   "cell_type": "code",
   "execution_count": 18,
   "metadata": {},
   "outputs": [
    {
     "data": {
      "text/html": [
       "<div>\n",
       "<style scoped>\n",
       "    .dataframe tbody tr th:only-of-type {\n",
       "        vertical-align: middle;\n",
       "    }\n",
       "\n",
       "    .dataframe tbody tr th {\n",
       "        vertical-align: top;\n",
       "    }\n",
       "\n",
       "    .dataframe thead th {\n",
       "        text-align: right;\n",
       "    }\n",
       "</style>\n",
       "<table border=\"1\" class=\"dataframe\">\n",
       "  <thead>\n",
       "    <tr style=\"text-align: right;\">\n",
       "      <th></th>\n",
       "      <th>OAT (F)</th>\n",
       "      <th>Power (kW)</th>\n",
       "      <th>dayofweek</th>\n",
       "    </tr>\n",
       "    <tr>\n",
       "      <th>Timestamp</th>\n",
       "      <th></th>\n",
       "      <th></th>\n",
       "      <th></th>\n",
       "    </tr>\n",
       "  </thead>\n",
       "  <tbody>\n",
       "    <tr>\n",
       "      <th>2010-01-01 01:15:00</th>\n",
       "      <td>51</td>\n",
       "      <td>165.1</td>\n",
       "      <td>Friday</td>\n",
       "    </tr>\n",
       "    <tr>\n",
       "      <th>2010-01-01 01:30:00</th>\n",
       "      <td>51</td>\n",
       "      <td>151.6</td>\n",
       "      <td>Friday</td>\n",
       "    </tr>\n",
       "    <tr>\n",
       "      <th>2010-01-01 01:45:00</th>\n",
       "      <td>51</td>\n",
       "      <td>146.9</td>\n",
       "      <td>Friday</td>\n",
       "    </tr>\n",
       "    <tr>\n",
       "      <th>2010-01-01 02:00:00</th>\n",
       "      <td>51</td>\n",
       "      <td>153.7</td>\n",
       "      <td>Friday</td>\n",
       "    </tr>\n",
       "    <tr>\n",
       "      <th>2010-01-01 02:15:00</th>\n",
       "      <td>51</td>\n",
       "      <td>153.8</td>\n",
       "      <td>Friday</td>\n",
       "    </tr>\n",
       "  </tbody>\n",
       "</table>\n",
       "</div>"
      ],
      "text/plain": [
       "                     OAT (F)  Power (kW) dayofweek\n",
       "Timestamp                                         \n",
       "2010-01-01 01:15:00       51       165.1    Friday\n",
       "2010-01-01 01:30:00       51       151.6    Friday\n",
       "2010-01-01 01:45:00       51       146.9    Friday\n",
       "2010-01-01 02:00:00       51       153.7    Friday\n",
       "2010-01-01 02:15:00       51       153.8    Friday"
      ]
     },
     "execution_count": 18,
     "metadata": {},
     "output_type": "execute_result"
    }
   ],
   "source": [
    "dataframe.head(5)"
   ]
  },
  {
   "cell_type": "code",
   "execution_count": 19,
   "metadata": {},
   "outputs": [
    {
     "data": {
      "application/vnd.jupyter.widget-view+json": {
       "model_id": "eb3de54b4eb54fdba3b489c219632f8a",
       "version_major": 2,
       "version_minor": 0
      },
      "text/plain": [
       "Canvas(toolbar=Toolbar(toolitems=[('Home', 'Reset original view', 'home', 'home'), ('Back', 'Back to previous …"
      ]
     },
     "metadata": {},
     "output_type": "display_data"
    },
    {
     "data": {
      "text/plain": [
       "Text(0.5, 1.0, 'Power consumption by day of week')"
      ]
     },
     "execution_count": 19,
     "metadata": {},
     "output_type": "execute_result"
    }
   ],
   "source": [
    "#Boxplot\n",
    "plt.close()\n",
    "sns.boxplot(data=dataframe, x=dataframe.dayofweek, y=dataframe['Power (kW)'])\n",
    "plt.title('Power consumption by day of week')"
   ]
  },
  {
   "cell_type": "markdown",
   "metadata": {},
   "source": [
    "<b>Now, its clearly see that missing values is at Wednesday and Thursday.\n",
    "Moreover, due to the dataset is retail buidling which mostly open everday.\n",
    "This is the reason why between day of week power consumption in the boxplot is similar."
   ]
  },
  {
   "cell_type": "markdown",
   "metadata": {},
   "source": [
    "<b>*Note: There are 4 important holidays in United State. Therefore, during those days the power consumption is dramatically drop down.\n",
    "Holidays dates: 2010-04-04 Easter Sunday, 2010-06-14 Flag Day, 2010-11-25 Thank Giving, 2010-12-25 Christmas Day"
   ]
  },
  {
   "cell_type": "code",
   "execution_count": 17,
   "metadata": {},
   "outputs": [
    {
     "data": {
      "application/vnd.jupyter.widget-view+json": {
       "model_id": "2b9d5776171e4a20ae40d1a3bc9e5384",
       "version_major": 2,
       "version_minor": 0
      },
      "text/plain": [
       "Canvas(toolbar=Toolbar(toolitems=[('Home', 'Reset original view', 'home', 'home'), ('Back', 'Back to previous …"
      ]
     },
     "metadata": {},
     "output_type": "display_data"
    },
    {
     "data": {
      "text/plain": [
       "Text(0, 0.5, 'Power (kW)')"
      ]
     },
     "execution_count": 17,
     "metadata": {},
     "output_type": "execute_result"
    }
   ],
   "source": [
    "#The dataset is collecting in 2010, some holiday are have different date \n",
    "#Let's zoom in to power consumption during those holidays\n",
    "\n",
    "#2010-04-04 is Easter Sunday (So, the plot is between Easter Sunday)\n",
    "holidays = [\"2010-04-03\", \"2010-04-04\", \"2010-04-05\"]\n",
    "\n",
    "plt.close()\n",
    "for i in holidays:\n",
    "    dataframe.loc[i, 'Power (kW)'].plot()\n",
    "plt.title(\"Power consumption drop during holiday\")\n",
    "plt.xlabel(\"Datetime\")\n",
    "plt.ylabel(\"Power (kW)\")"
   ]
  },
  {
   "cell_type": "markdown",
   "metadata": {},
   "source": [
    "<b>Next step: Preprocessing"
   ]
  },
  {
   "cell_type": "code",
   "execution_count": null,
   "metadata": {},
   "outputs": [],
   "source": []
  }
 ],
 "metadata": {
  "kernelspec": {
   "display_name": "Python 3",
   "language": "python",
   "name": "python3"
  },
  "language_info": {
   "codemirror_mode": {
    "name": "ipython",
    "version": 3
   },
   "file_extension": ".py",
   "mimetype": "text/x-python",
   "name": "python",
   "nbconvert_exporter": "python",
   "pygments_lexer": "ipython3",
   "version": "3.7.5"
  },
  "toc-autonumbering": true,
  "toc-showcode": true,
  "toc-showmarkdowntxt": true
 },
 "nbformat": 4,
 "nbformat_minor": 4
}
